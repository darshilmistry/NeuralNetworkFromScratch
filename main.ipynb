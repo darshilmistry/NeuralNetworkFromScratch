{
 "cells": [
  {
   "cell_type": "code",
   "execution_count": 3,
   "metadata": {},
   "outputs": [],
   "source": [
    "import numpy as np"
   ]
  },
  {
   "cell_type": "code",
   "execution_count": 33,
   "metadata": {},
   "outputs": [],
   "source": [
    "class CustomNeuralNetLayer:\n",
    "\n",
    "    Weights = []\n",
    "    Biases = []\n",
    "\n",
    "    def __init__(self, n_neurons, n_inputs, random_state = 32) -> None:\n",
    "        self.Weights = 0.10 * np.random.RandomState(random_state).randn(n_inputs, n_neurons)\n",
    "        self.Biases = np.zeros(n_neurons)\n",
    "\n",
    "    def forwardPass(self, inputs) -> None:\n",
    "        output = np.dot(inputs, self.Weights) + self.Biases\n",
    "        return output"
   ]
  },
  {
   "cell_type": "code",
   "execution_count": 38,
   "metadata": {},
   "outputs": [
    {
     "name": "stdout",
     "output_type": "stream",
     "text": [
      "[[-0.09275397 -0.00512696]\n",
      " [-0.14218795 -0.01259101]\n",
      " [-0.22873285 -0.05125578]]\n"
     ]
    }
   ],
   "source": [
    "inputs = [[1.2, 3.5, 4.6, 9.5], [3.4, 2.4, 7.3, 4.8], [8.2, 3.6, 6.9, 7.2]]\n",
    "\n",
    "layer1 = CustomNeuralNetLayer(n_neurons=5, n_inputs=4, random_state=82).forwardPass(inputs)\n",
    "layer2 = CustomNeuralNetLayer(n_neurons=7, n_inputs=5, random_state=79).forwardPass(layer1)\n",
    "layer3 = CustomNeuralNetLayer(n_neurons = 2, n_inputs = 7, random_state = 82).forwardPass(layer2)\n",
    "print(layer3)"
   ]
  }
 ],
 "metadata": {
  "kernelspec": {
   "display_name": "base",
   "language": "python",
   "name": "python3"
  },
  "language_info": {
   "codemirror_mode": {
    "name": "ipython",
    "version": 3
   },
   "file_extension": ".py",
   "mimetype": "text/x-python",
   "name": "python",
   "nbconvert_exporter": "python",
   "pygments_lexer": "ipython3",
   "version": "3.11.7"
  }
 },
 "nbformat": 4,
 "nbformat_minor": 2
}
